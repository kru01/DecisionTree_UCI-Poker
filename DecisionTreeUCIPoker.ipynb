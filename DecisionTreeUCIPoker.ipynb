{
 "cells": [
  {
   "attachments": {},
   "cell_type": "markdown",
   "metadata": {},
   "source": [
    "# Decision Tree with UCI Poker and scikit-learn\n",
    "\n",
    "- **Student ID:** 21127135\n",
    "- **Student name:** Diep Huu Phuc\n",
    "- **Data set source**: https://archive.ics.uci.edu/ml/datasets/Poker+Hand"
   ]
  },
  {
   "attachments": {},
   "cell_type": "markdown",
   "metadata": {},
   "source": [
    "## Import library\n",
    "\n",
    "- Make sure `Import Library` is run at least once.\n",
    "- The notebook is written in a way that each task is stand-alone. So long as all libraries are imported, it is not obligated to run through every code block sequentially.\n"
   ]
  },
  {
   "cell_type": "code",
   "execution_count": null,
   "metadata": {},
   "outputs": [],
   "source": [
    "import pandas as pd\n",
    "import matplotlib.pyplot as plt\n",
    "import graphviz\n",
    "import seaborn as sns\n",
    "\n",
    "from sklearn.model_selection import train_test_split\n",
    "from sklearn.tree import DecisionTreeClassifier, export_graphviz\n",
    "from sklearn.metrics import classification_report, confusion_matrix, accuracy_score"
   ]
  },
  {
   "attachments": {},
   "cell_type": "markdown",
   "metadata": {},
   "source": [
    "## Preparing the data sets"
   ]
  },
  {
   "attachments": {},
   "cell_type": "markdown",
   "metadata": {},
   "source": [
    "### Merging the `.data` files\n",
    "\n",
    "- Merging `poker-hand-training-true.data` and `poker-hand-testing.data` into `poker-hand-data.csv`. Both of `.data` files and the resulting `.csv` are placed in `pokerData` folder.\n",
    "   - As a merging method was not specified, all training data is written in first then the testing data afterward."
   ]
  },
  {
   "cell_type": "code",
   "execution_count": null,
   "metadata": {},
   "outputs": [],
   "source": [
    "folder = './pokerData'\n",
    "train_true_data = pd.read_csv(f'{folder}/poker-hand-training-true.data', header=None)\n",
    "test_data = pd.read_csv(f'{folder}/poker-hand-testing.data', header=None)\n",
    "pd.concat([train_true_data, test_data]).to_csv(f'{folder}/poker-hand-data.csv', header=None, index=False)"
   ]
  },
  {
   "attachments": {},
   "cell_type": "markdown",
   "metadata": {},
   "source": [
    "### Preparing the subsets\n",
    "\n",
    "- Both the shuffling of the data and stratified-fashion split are handled by `sklearn.model_selection.train_test_split`.\n",
    "- The following four subsets are extracted from the merged data in `poker-hand-data.csv`.\n",
    "   - **feature_train** - A set of training examples, each of which is a tuple of 42 attribute values (target attribute excluded).\n",
    "   - **label_train** - A set of labels corresponding to the examples in feature_train.\n",
    "   - **feature_test** - A set of test examples, it is of similar structure to feature_train\n",
    "   - **label_test** -  A set of labels corresponding to the examples in feature_test.\n",
    "- There will be experiments on training sets and test sets of different proportions, which are `(train/test)` `40/60`, `60/40`, `80/20`, and `90/10`. Hence, a total of 16 subsets, 4 for each ratio, will be output to `pokerSubsets` folder."
   ]
  },
  {
   "cell_type": "code",
   "execution_count": null,
   "metadata": {},
   "outputs": [],
   "source": [
    "folder = './pokerSubsets'\n",
    "poker_hand_data = pd.read_csv('./pokerData/poker-hand-data.csv', header=None)\n",
    "features = poker_hand_data.iloc[:, :-1] # features are every row of each column except the last column, which is Label.\n",
    "labels = poker_hand_data.iloc[:, -1]    # labels are every row of the last column.\n",
    "train_ratios = [0.4, 0.6, 0.8, 0.9]\n",
    "\n",
    "for ratio in train_ratios:\n",
    "    feature_train, feature_test, label_train, label_test = train_test_split(features, labels, train_size=ratio,\n",
    "                                                                            random_state=42, shuffle=True, stratify=labels)\n",
    "\n",
    "    feature_train.to_csv(f'{folder}/feature_train_{int(ratio * 100)}.csv', header=None, index=False)\n",
    "    feature_test.to_csv(f'{folder}/feature_test_{round((1 - ratio) * 100)}.csv', header=None, index=False)\n",
    "    label_train.to_csv(f'{folder}/label_train_{int(ratio * 100)}.csv', header=None, index=False)\n",
    "    label_test.to_csv(f'{folder}/label_test_{round((1 - ratio) * 100)}.csv', header=None, index=False)"
   ]
  },
  {
   "attachments": {},
   "cell_type": "markdown",
   "metadata": {},
   "source": [
    "### Visualizing the distributions of classes\n",
    "\n",
    "- For `label` subsets, we just need to merge `label_train` and `label_test` into `label_data` and ascertain whether the statistics of this data resemble those of the original set.\n",
    "- However, in the case of `feature` subsets, due to the absence of `label` (or `class`), i.e., `Poker Hand`, it is impossible to visualize the distributions. As such, their validity will be confirmed by assuring the content of both `feature_train_X.csv` and `feature_test_Y.csv` obeys their respective ratio."
   ]
  },
  {
   "cell_type": "code",
   "execution_count": null,
   "metadata": {},
   "outputs": [],
   "source": [
    "folder = './pokerSubsets'\n",
    "Poker_Hand = ['Nothing in hand', 'One pair', 'Two pairs', 'Three of a kind', 'Straight',\n",
    "              'Flush', 'Full house', 'Four of a kind', 'Straight flush', 'Royal flush']\n",
    "\n",
    "# Plotting the original set\n",
    "print(\"==== The original set ====\")\n",
    "poker_hand_data = pd.read_csv('./pokerData/poker-hand-data.csv', header=None)\n",
    "class_counts = poker_hand_data.iloc[:, -1].value_counts().sort_index()\n",
    "org_total_instances = total_instances = class_counts.sum()\n",
    "class_ratios = [class_counts[i] / total_instances for i in range(len(class_counts))]\n",
    "\n",
    "plt.figure(figsize=(14, 10))\n",
    "plt.bar(range(len(class_counts)), class_counts)\n",
    "plt.title('Distribution of classes in poker-hand-data.csv')\n",
    "plt.xticks(range(len(class_counts)), Poker_Hand)\n",
    "plt.xlabel('Class')\n",
    "plt.ylabel('Instance')\n",
    "for i in range(len(class_counts)):\n",
    "    plt.text(i, class_counts[i], f'{class_counts[i]}\\n({class_ratios[i] * 100:.4f}%)', ha='center', va='baseline')\n",
    "plt.show()\n",
    "\n",
    "# Plotting the training and test set\n",
    "train_ratios = [0.4, 0.6, 0.8, 0.9]\n",
    "for ratio in train_ratios:\n",
    "    print(f\"==== Train/Test Ratio of {int(ratio * 100)}/{round((1 - ratio) * 100)} ====\")\n",
    "    print('Proving the validity of feature subsets.')\n",
    "    feature_train = pd.read_csv(f'{folder}/feature_train_{int(ratio * 100)}.csv', header=None)\n",
    "    print(f'- Ratio of feature_train = {len(feature_train)} / {org_total_instances} = {len(feature_train) / org_total_instances}')\n",
    "    feature_test = pd.read_csv(f'{folder}/feature_test_{round((1 - ratio) * 100)}.csv', header=None)\n",
    "    print(f'- Ratio of feature_test = {len(feature_test)} / {org_total_instances} = {len(feature_test) / org_total_instances}')\n",
    "\n",
    "    label_train = pd.read_csv(f'{folder}/label_train_{int(ratio * 100)}.csv', header=None)\n",
    "    label_test = pd.read_csv(f'{folder}/label_test_{round((1 - ratio) * 100)}.csv', header=None)\n",
    "    label_data = pd.concat([label_train, label_test])\n",
    "\n",
    "    class_counts = label_data.iloc[:, -1].value_counts().sort_index()\n",
    "    total_instances = class_counts.sum()\n",
    "    class_ratios = [class_counts[i] / total_instances for i in range(len(class_counts))]\n",
    "\n",
    "    plt.figure(figsize=(14, 10))\n",
    "    plt.bar(range(len(class_counts)), class_counts)\n",
    "    plt.title(f'Distribution of classes for train/test ratio of {int(ratio * 100)}/{round((1 - ratio) * 100)}')\n",
    "    plt.xticks(range(len(class_counts)), Poker_Hand)\n",
    "    plt.xlabel('Class')\n",
    "    plt.ylabel('Instance')\n",
    "    for i in range(len(class_counts)):\n",
    "        plt.text(i, class_counts[i], f'{class_counts[i]}\\n({class_ratios[i] * 100:.4f}%)', ha='center', va='baseline')\n",
    "    plt.show()"
   ]
  },
  {
   "attachments": {},
   "cell_type": "markdown",
   "metadata": {},
   "source": [
    "## Building the decision tree classifiers\n",
    "\n",
    "- The decision trees drawn by `graphviz` are output to `decisionTreeClassifiers` folder.\n",
    "   - **max_depth=None:** It takes ***an eternity*** for `graphviz` to render this tree so we will only observe its first 10 levels. In other words, the decision tree, i.e., the `model`, is still built with `max_depth=None`, we will only cut off its plotting at depth 10."
   ]
  },
  {
   "cell_type": "code",
   "execution_count": null,
   "metadata": {},
   "outputs": [],
   "source": [
    "sets_folder = './pokerSubsets'\n",
    "tree_folder = './decisionTreeClassifiers'\n",
    "Poker_Hand = ['Nothing in hand', 'One pair', 'Two pairs', 'Three of a kind', 'Straight',\n",
    "              'Flush', 'Full house', 'Four of a kind', 'Straight flush', 'Royal flush']\n",
    "train_ratios = [0.4, 0.6, 0.8, 0.9]\n",
    "max_depth_observable = 10\n",
    "\n",
    "for ratio in train_ratios:\n",
    "    print(f\"==== Decision Tree Classifier for Train/Test Ratio of {int(ratio * 100)}/{round((1 - ratio) * 100)} ====\")\n",
    "    feature_train = pd.read_csv(f'{sets_folder}/feature_train_{int(ratio * 100)}.csv', header=None)\n",
    "    label_train = pd.read_csv(f'{sets_folder}/label_train_{int(ratio * 100)}.csv', header=None)\n",
    "    model = DecisionTreeClassifier(criterion='entropy', random_state=42)\n",
    "    model.fit(feature_train, label_train)\n",
    "\n",
    "    dot_data = export_graphviz(model, max_depth=max_depth_observable, feature_names=Poker_Hand, filled=True, rounded=True, special_characters=True)\n",
    "    graph = graphviz.Source(dot_data)\n",
    "    graph.render(filename=f'depth_ob{max_depth_observable}_{int(ratio * 100)}{round((1 - ratio) * 100)}', directory=tree_folder)\n",
    "    display(graph)"
   ]
  },
  {
   "attachments": {},
   "cell_type": "markdown",
   "metadata": {},
   "source": [
    "## Evaluating the decision tree classifiers"
   ]
  },
  {
   "cell_type": "code",
   "execution_count": null,
   "metadata": {},
   "outputs": [],
   "source": [
    "folder = './pokerSubsets'\n",
    "Poker_Hand = ['Nothing in hand', 'One pair', 'Two pairs', 'Three of a kind', 'Straight',\n",
    "              'Flush', 'Full house', 'Four of a kind', 'Straight flush', 'Royal flush']\n",
    "train_ratios = [0.4, 0.6, 0.8, 0.9]\n",
    "\n",
    "for ratio in train_ratios:\n",
    "    feature_train = pd.read_csv(f'{folder}/feature_train_{int(ratio * 100)}.csv', header=None)\n",
    "    label_train = pd.read_csv(f'{folder}/label_train_{int(ratio * 100)}.csv', header=None)\n",
    "    model = DecisionTreeClassifier(criterion='entropy', random_state=42)\n",
    "    model.fit(feature_train, label_train)\n",
    "\n",
    "    feature_test = pd.read_csv(f'{folder}/feature_test_{round((1 - ratio) * 100)}.csv', header=None)\n",
    "    label_test = pd.read_csv(f'{folder}/label_test_{round((1 - ratio) * 100)}.csv', header=None)\n",
    "    label_pred = model.predict(feature_test)\n",
    "    print(f\"==== Train/Test Ratio of {int(ratio * 100)}/{round((1 - ratio) * 100)} ====\")\n",
    "    print('Desicion Tree Classifier report')\n",
    "    print(classification_report(label_test, label_pred, target_names=Poker_Hand, zero_division=0))\n",
    "\n",
    "    cfm = confusion_matrix(label_test, label_pred)\n",
    "    plt.figure(figsize=(14, 10))\n",
    "    sns.heatmap(cfm, annot=True, linewidths=0.5, xticklabels=Poker_Hand, yticklabels=Poker_Hand)\n",
    "    plt.title('Decision Tree Classifier confusion matrix')\n",
    "    plt.ylabel('True label')\n",
    "    plt.xlabel('Predicted label')\n",
    "    plt.show()"
   ]
  },
  {
   "attachments": {},
   "cell_type": "markdown",
   "metadata": {},
   "source": [
    "## The depth and accuracy of a decision tree\n",
    "\n",
    "- This task works on the `80/20` training set and test set. `max_depth` will take the following values, `None`, `2`, `3`, `4`, `5`, `6`, `7`.\n",
    "- The decision trees drawn by `graphviz` are output to `treeMaxDepth` folder.\n",
    "   - **max_depth=None:** It takes ***an eternity*** for `graphviz` to render this tree so we will only observe its first 10 levels. In other words, the decision tree, i.e., the `model`, is still built with `max_depth=None`, we will only cut off its plotting at depth 10."
   ]
  },
  {
   "cell_type": "code",
   "execution_count": null,
   "metadata": {},
   "outputs": [],
   "source": [
    "sets_folder = './pokerSubsets'\n",
    "tree_folder = './treeMaxDepth'\n",
    "Poker_Hand = ['Nothing in hand', 'One pair', 'Two pairs', 'Three of a kind', 'Straight',\n",
    "              'Flush', 'Full house', 'Four of a kind', 'Straight flush', 'Royal flush']\n",
    "ratio = 0.8 # train_ratio\n",
    "max_depths = [None, 2, 3, 4, 5, 6, 7]\n",
    "feature_train = pd.read_csv(f'{sets_folder}/feature_train_{int(ratio * 100)}.csv', header=None)\n",
    "label_train = pd.read_csv(f'{sets_folder}/label_train_{int(ratio * 100)}.csv', header=None)\n",
    "\n",
    "for depth in max_depths:\n",
    "    print(f\"==== Max Depth {depth} with Train/Test Ratio of {int(ratio * 100)}/{round((1 - ratio) * 100)} ====\")\n",
    "    model = DecisionTreeClassifier(criterion='entropy', max_depth=depth, random_state=42)\n",
    "    model.fit(feature_train, label_train)\n",
    "\n",
    "    feature_test = pd.read_csv(f'{folder}/feature_test_{round((1 - ratio) * 100)}.csv', header=None)\n",
    "    label_test = pd.read_csv(f'{folder}/label_test_{round((1 - ratio) * 100)}.csv', header=None)\n",
    "    label_pred = model.predict(feature_test)\n",
    "    \n",
    "    dot_data = export_graphviz(model, max_depth=(10 if depth is None else None), feature_names=Poker_Hand,\n",
    "                               filled=True, rounded=True, special_characters=True)\n",
    "    graph = graphviz.Source(dot_data)\n",
    "    graph.render(filename=f'depth_{depth}_{int(ratio * 100)}{round((1 - ratio) * 100)}', directory=tree_folder)\n",
    "    print(f'Accuracy score: {accuracy_score(label_test, label_pred)}')\n",
    "    display(graph)"
   ]
  }
 ],
 "metadata": {
  "kernelspec": {
   "display_name": "Python 3",
   "language": "python",
   "name": "python3"
  },
  "language_info": {
   "codemirror_mode": {
    "name": "ipython",
    "version": 3
   },
   "file_extension": ".py",
   "mimetype": "text/x-python",
   "name": "python",
   "nbconvert_exporter": "python",
   "pygments_lexer": "ipython3",
   "version": "3.11.3"
  },
  "orig_nbformat": 4
 },
 "nbformat": 4,
 "nbformat_minor": 2
}
